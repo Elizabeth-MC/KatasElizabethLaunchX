{
 "cells": [
  {
   "cell_type": "markdown",
   "metadata": {},
   "source": [
    "# HOLA ESTA ES MI KATA 2 \n",
    "\n",
    "## CREAR UN PAQUETE\n",
    "\n",
    "1. CREAR UN ENTORNO VIRTUAL\n",
    "\n",
    "Ejecutar en la terminal  **python3 -m venv env** \n",
    "\n",
    "Ejecuta el comando para activar el entorno virtual: **source env/bin/activate**\n",
    "\n",
    "Ejecuta el comando **pip freeze** para ver las bibliotecas instaladas en tu entorno.\n",
    "\n",
    "Ejecuta el comando **pip install** para instalar una biblioteca.\n",
    "\n",
    "2. DESACTIVAR UN ENTORNO VIRTUAL\n",
    "\n",
    "Ejecuta el comando **deactivate**"
   ]
  }
 ],
 "metadata": {
  "language_info": {
   "name": "python"
  },
  "orig_nbformat": 4
 },
 "nbformat": 4,
 "nbformat_minor": 2
}
