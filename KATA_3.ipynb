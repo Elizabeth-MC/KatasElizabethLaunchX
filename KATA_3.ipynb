{
 "cells": [
  {
   "cell_type": "markdown",
   "metadata": {},
   "source": [
    "# Hola esta es mi KATA 3\n",
    "\n",
    "1. Escribir declaraciones **if**, **else**, **elif**\n",
    "\n",
    "Escribir una lógica condicional que imprima una advertencia si un asteroide se acerca a la Tierra demasiado rápido.\n",
    "La velocidad del asteroide varía dependiendo de lo cerca que esté del sol.\n",
    "Cualquier velocidad superior a 25 kilómetros por segundo (km/s) merece una advertencia."
   ]
  },
  {
   "cell_type": "code",
   "execution_count": 9,
   "metadata": {},
   "outputs": [
    {
     "name": "stdout",
     "output_type": "stream",
     "text": [
      "Estamos a salvo!, el asteroide viaja a 19Km/s\n"
     ]
    }
   ],
   "source": [
    "VelocidadAsteroide = 19                     #Km/s\n",
    "VelocidadAlerta = 25                        #km/s\n",
    "if VelocidadAsteroide > VelocidadAlerta:    #Si la velocidad del asteroide es mayor a la velocidad que merece una dvertencia\n",
    "    print('Cuidado con el asteroide')       #Imprime una alerta de cuidado\n",
    "else:                                       #De lo contrario \n",
    "    print ('Estamos a salvo!, el asteroide viaja a '+ str(VelocidadAsteroide)+'Km/s') # Imprimir un mensaje de que estamos a salvo."
   ]
  },
  {
   "cell_type": "markdown",
   "metadata": {},
   "source": [
    "Un asteroide se acerca, y viaja a una velocidad de 49 km/s."
   ]
  },
  {
   "cell_type": "code",
   "execution_count": 10,
   "metadata": {},
   "outputs": [
    {
     "name": "stdout",
     "output_type": "stream",
     "text": [
      "Cuidado con el asteroide va a impactar a una velocidad de 49Km/s\n"
     ]
    }
   ],
   "source": [
    "VelocidadAsteroide = 49 #Km/s\n",
    "if VelocidadAsteroide > VelocidadAlerta:\n",
    "    print('Cuidado con el asteroide va a impactar a una velocidad de '+ str(VelocidadAsteroide)+'Km/s')\n",
    "else: \n",
    "    print ('Estamos a salvo')"
   ]
  },
  {
   "cell_type": "markdown",
   "metadata": {},
   "source": [
    "Si un asteroide entra en la atmósfera de la Tierra a una velocidad mayor o igual a 20 km/s, a veces produce un rayo de luz que se puede ver desde la Tierra. \n",
    "¡Hay uno que se dirige a la tierra ahora a una velocidad de 19 km/s!"
   ]
  },
  {
   "cell_type": "code",
   "execution_count": 17,
   "metadata": {},
   "outputs": [
    {
     "name": "stdout",
     "output_type": "stream",
     "text": [
      "No hay nada en el cielo hoy\n"
     ]
    }
   ],
   "source": [
    "VelocidadAsteroide = 19\n",
    "if VelocidadAsteroide >= 20: \n",
    "    print('Mira el cielo hay una estrella fugaz')\n",
    "elif VelocidadAsteroide < 20:\n",
    "    print('No hay nada en el cielo hoy')"
   ]
  },
  {
   "cell_type": "markdown",
   "metadata": {},
   "source": [
    "2. Uso de operadores **and** y **or**\n",
    "\n",
    "Los asteroides de menos de 25 metros en su dimensión más grande probablemente se quemarán a medida que entren en la atmósfera de la Tierra.\n",
    "\n",
    "Si una pieza de un asteroide que es más grande que 25 metros pero más pequeña que 1000 metros golpeara la Tierra, causaría mucho daño."
   ]
  },
  {
   "cell_type": "code",
   "execution_count": 44,
   "metadata": {},
   "outputs": [
    {
     "name": "stdout",
     "output_type": "stream",
     "text": [
      "Vamos a morir, escapar de la tierra ahora\n"
     ]
    }
   ],
   "source": [
    "VelocidadAsteroide = 20\n",
    "TamanoAsteroide = 40   #metros\n",
    "\n",
    "if VelocidadAsteroide> 25 or TamanoAsteroide>25:\n",
    "    print('Vamos a morir, escapar de la tierra ahora')\n",
    "elif VelocidadAsteroide >=20 and TamanoAsteroide<25:\n",
    "    print('estrellas en el cielo')\n",
    "else:\n",
    "    print('vamos a vivir')"
   ]
  }
 ],
 "metadata": {
  "interpreter": {
   "hash": "277d1cd7b9b1b09ccea2203541d59bfc65b98d30a96cdbc19fc799b11d8b5517"
  },
  "kernelspec": {
   "display_name": "Python 3.8.3 64-bit",
   "language": "python",
   "name": "python3"
  },
  "language_info": {
   "codemirror_mode": {
    "name": "ipython",
    "version": 3
   },
   "file_extension": ".py",
   "mimetype": "text/x-python",
   "name": "python",
   "nbconvert_exporter": "python",
   "pygments_lexer": "ipython3",
   "version": "3.8.3"
  },
  "orig_nbformat": 4
 },
 "nbformat": 4,
 "nbformat_minor": 2
}
