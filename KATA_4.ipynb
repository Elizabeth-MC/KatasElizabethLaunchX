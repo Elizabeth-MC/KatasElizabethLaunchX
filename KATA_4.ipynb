{
 "cells": [
  {
   "cell_type": "markdown",
   "metadata": {},
   "source": [
    "# Hola esta es mi KATA 4"
   ]
  },
  {
   "cell_type": "markdown",
   "metadata": {},
   "source": [
    "## Efercicio 1\n",
    "Transformar cadenas"
   ]
  },
  {
   "cell_type": "code",
   "execution_count": 35,
   "metadata": {},
   "outputs": [],
   "source": [
    "text = '''Interesting facts about the Moon. The Moon is Earth's only satellite. There are several interesting facts about the Moon and how it affects life here on Earth. \n",
    "On average, the Moon moves 4cm away from the Earth every year. This yearly drift is not significant enough to cause immediate effects on Earth temperature 4 C'''"
   ]
  },
  {
   "cell_type": "markdown",
   "metadata": {},
   "source": [
    "Dividir el texto en cada oración"
   ]
  },
  {
   "cell_type": "code",
   "execution_count": 32,
   "metadata": {},
   "outputs": [
    {
     "name": "stdout",
     "output_type": "stream",
     "text": [
      "['Interesting facts about the Moon', \" The Moon is Earth's only satellite\", ' There are several interesting facts about the Moon and how it affects life here on Earth', ' \\nOn average, the Moon moves 4cm away from the Earth every year', ' This yearly drift is not significant enough to cause immediate effects on Earth temperature 4 C']\n"
     ]
    }
   ],
   "source": [
    "DivText=text.split('.')\n",
    "print(DivText)"
   ]
  },
  {
   "cell_type": "markdown",
   "metadata": {},
   "source": [
    "Define algunas palabras clave para búsqueda que te ayudarán a determinar si una oración contiene un hecho.\n",
    "Las palabras pista: average, temperature y distance."
   ]
  },
  {
   "cell_type": "code",
   "execution_count": 33,
   "metadata": {},
   "outputs": [
    {
     "name": "stdout",
     "output_type": "stream",
     "text": [
      " The Moon is Earth's only satellite\n",
      " There are several interesting facts about the Moon and how it affects life here on Earth\n",
      " This yearly drift is not significant enough to cause immediate effects on Earth temperature 4 C\n"
     ]
    }
   ],
   "source": [
    "Buscar=['average','temperature','distance']#Ciclo para recorrer el texto buscando las palabras\n",
    "\n",
    "for Oracion in DivText:  #El ciclo FOR recorre una colección, donde sentence va tomando el valor de cada pararfo dividido\n",
    "    for Buscar in Buscar:\n",
    "        if Buscar in Oracion:\n",
    "            print(Oracion)\n",
    "            break       # al cumplir la sentencia rompe el ciclo\n"
   ]
  },
  {
   "cell_type": "code",
   "execution_count": 34,
   "metadata": {},
   "outputs": [
    {
     "name": "stdout",
     "output_type": "stream",
     "text": [
      "Interesting facts about the Moon\n",
      " The Moon is Earth's only satellite\n",
      " There are several interesting facts about the Moon and how it affects life here on Earth\n",
      " \n",
      "On average, the Moon moves 4cm away from the Earth every year\n",
      " This yearly drift is not significant enough to cause immediate effects on Earth temperature 4 Celsius\n"
     ]
    }
   ],
   "source": [
    "for Oracion in DivText:\n",
    "    for Buscar in DivText:\n",
    "        if Buscar in Oracion:\n",
    "            print(Oracion.replace(' C', ' Celsius'))\n",
    "            break"
   ]
  },
  {
   "cell_type": "markdown",
   "metadata": {},
   "source": [
    "## Ejercicio 2\n",
    "Formateando cadenas"
   ]
  },
  {
   "cell_type": "code",
   "execution_count": 2,
   "metadata": {},
   "outputs": [],
   "source": [
    "# Datos a trabajar\n",
    "Name = \"Moon\"\n",
    "Gravity = 0.00162 #kms\n",
    "Planet = \"Earth\""
   ]
  },
  {
   "cell_type": "markdown",
   "metadata": {},
   "source": [
    "Crear un titulo"
   ]
  },
  {
   "cell_type": "code",
   "execution_count": 3,
   "metadata": {},
   "outputs": [
    {
     "name": "stdout",
     "output_type": "stream",
     "text": [
      "Today we work with information about the Earth and Moon , so enjoy it !\n"
     ]
    }
   ],
   "source": [
    "Title='Today we work with information about the {} and {} , so enjoy it !'.format( Planet,Name)\n",
    "print(Title)"
   ]
  },
  {
   "cell_type": "markdown",
   "metadata": {},
   "source": [
    "Creamos la plantilla"
   ]
  },
  {
   "cell_type": "code",
   "execution_count": 4,
   "metadata": {},
   "outputs": [
    {
     "name": "stdout",
     "output_type": "stream",
     "text": [
      "-------------------------------------------------------------------------------- \n",
      "Name of planet: Earth \n",
      "Gravity in Moon: 1.6199999999999999 m/s2 \n",
      "\n"
     ]
    }
   ],
   "source": [
    "Facts = f\"\"\"{'-'*80} \n",
    "Name of planet: {Planet} \n",
    "Gravity in {Name}: {Gravity * 1000} m/s2 \n",
    "\"\"\" \n",
    "print(Facts)"
   ]
  },
  {
   "cell_type": "markdown",
   "metadata": {},
   "source": [
    "## EARTH"
   ]
  },
  {
   "cell_type": "code",
   "execution_count": 5,
   "metadata": {},
   "outputs": [
    {
     "name": "stdout",
     "output_type": "stream",
     "text": [
      "Today we work with information about the Earth and Moon , so enjoy it ! \n",
      " -------------------------------------------------------------------------------- \n",
      "Name of planet: Earth \n",
      "Gravity in Moon: 1.6199999999999999 m/s2 \n",
      "\n"
     ]
    }
   ],
   "source": [
    "print(Title,'\\n',Facts)"
   ]
  },
  {
   "cell_type": "markdown",
   "metadata": {},
   "source": [
    "## MARS"
   ]
  },
  {
   "cell_type": "code",
   "execution_count": 6,
   "metadata": {},
   "outputs": [],
   "source": [
    "#Datos de Marte\n",
    "Name = \"Gainemedes\"\n",
    "Gravity = 0.00162 #kms\n",
    "Planet = \"Mars\"\n"
   ]
  },
  {
   "cell_type": "code",
   "execution_count": 8,
   "metadata": {},
   "outputs": [
    {
     "name": "stdout",
     "output_type": "stream",
     "text": [
      "-------------------------------------------------------------------------------- \n",
      "Name of planet: Earth \n",
      "Gravity in Moon: 1.6199999999999999 m/s2 \n",
      "\n"
     ]
    }
   ],
   "source": [
    "#Validar la plantilla\n",
    "print(Facts)"
   ]
  },
  {
   "cell_type": "code",
   "execution_count": 16,
   "metadata": {},
   "outputs": [
    {
     "name": "stdout",
     "output_type": "stream",
     "text": [
      "Today we work with information about the Mars and Gainemedes , so enjoy it !\n",
      "\n",
      "Gravity of: Gainemedes\n",
      "-------------------------------------------------------------------------------\n",
      "Planet's name: Mars\n",
      "Gravity in Gainemedes: 0.00162 m/s2\n",
      "\n"
     ]
    }
   ],
   "source": [
    "Title='Today we work with information about the {} and {} , so enjoy it !'.format( Planet,Name)\n",
    "print(Title)\n",
    "\n",
    "NewFacts = \"\"\"\n",
    "Gravity of: {Name}\n",
    "-------------------------------------------------------------------------------\n",
    "Planet's name: {Planet}\n",
    "Gravity in {Name}: {Gravity} m/s2\n",
    "\"\"\"\n",
    "print(NewFacts.format(Name=Name, Planet=Planet, Gravity=Gravity))"
   ]
  }
 ],
 "metadata": {
  "interpreter": {
   "hash": "00982b3c7c3b617a7c2abbedcfe9a65a5a8bd8ed81e3c5cfa64160f85593e6f7"
  },
  "kernelspec": {
   "display_name": "Python 3.8.1 32-bit",
   "language": "python",
   "name": "python3"
  },
  "language_info": {
   "codemirror_mode": {
    "name": "ipython",
    "version": 3
   },
   "file_extension": ".py",
   "mimetype": "text/x-python",
   "name": "python",
   "nbconvert_exporter": "python",
   "pygments_lexer": "ipython3",
   "version": "3.8.3"
  },
  "orig_nbformat": 4
 },
 "nbformat": 4,
 "nbformat_minor": 2
}
